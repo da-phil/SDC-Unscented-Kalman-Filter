{
 "cells": [
  {
   "cell_type": "markdown",
   "metadata": {},
   "source": [
    "# Extended Kalman Filter Implementation for Constant Turn Rate and Velocity (CTRV) Vehicle Model\n",
    "\n",
    "![Extended Kalman Filter Step](Extended-Kalman-Filter-Step.png)"
   ]
  },
  {
   "cell_type": "code",
   "execution_count": 60,
   "metadata": {
    "collapsed": false,
    "slideshow": {
     "slide_type": "skip"
    }
   },
   "outputs": [
    {
     "data": {
      "text/html": [
       "<style>\n",
       "    div#notebook-container    { width: 80%; }\n",
       "    div#menubar-container     { width: 80%; }\n",
       "    div#maintoolbar-container { width: 80%; }\n",
       "</style>"
      ],
      "text/plain": [
       "<IPython.core.display.HTML object>"
      ]
     },
     "metadata": {},
     "output_type": "display_data"
    }
   ],
   "source": [
    "import numpy as np\n",
    "%matplotlib inline\n",
    "import csv\n",
    "import matplotlib.dates as mdates\n",
    "import matplotlib.pyplot as plt\n",
    "from mpl_toolkits.axes_grid1 import make_axes_locatable\n",
    "from scipy.stats import norm\n",
    "from sympy import Symbol, symbols, latex, Matrix, sin, cos, sqrt, atan, Pow, Rational\n",
    "from sympy import init_printing\n",
    "init_printing(use_latex=True)\n",
    "\n",
    "from IPython.core.display import display, HTML\n",
    "display(HTML(\"\"\"<style>\n",
    "    div#notebook-container    { width: 80%; }\n",
    "    div#menubar-container     { width: 80%; }\n",
    "    div#maintoolbar-container { width: 80%; }\n",
    "</style>\"\"\"))\n",
    "\n",
    "# pretty formatting of np float arrays\n",
    "float_formatter = lambda x: \"%10.5f\" % x\n",
    "np.set_printoptions(formatter={'float_kind' : float_formatter})\n",
    "\n",
    "numstates = 5 # States\n",
    "estimated_states = ['$x$', '$y$', '$v$', '$\\psi$', '$\\dot \\psi$']\n",
    "\n",
    "def plot_covariance_matrix(fig, cov, states=estimated_states):\n",
    "    states_num = len(states)\n",
    "    im = plt.imshow(cov, interpolation=\"none\", cmap=plt.get_cmap('binary'))\n",
    "    ylocs, ylabels = plt.yticks()\n",
    "    # set the locations of the yticks\n",
    "    plt.yticks(np.arange(states_num))\n",
    "    # set the locations and labels of the yticks\n",
    "    plt.yticks(np.arange(states_num),states, fontsize=22)\n",
    "\n",
    "    xlocs, xlabels = plt.xticks()\n",
    "    # set the locations of the yticks\n",
    "    plt.xticks(np.arange(states_num))\n",
    "    # set the locations and labels of the yticks\n",
    "    plt.xticks(np.arange(states_num),states, fontsize=22)\n",
    "\n",
    "    plt.xlim([-0.5, (states_num-1)+0.5])\n",
    "    plt.ylim([(states_num-1)+0.5, -0.5])\n",
    "\n",
    "    divider = make_axes_locatable(plt.gca())\n",
    "    cax = divider.append_axes(\"right\", \"5%\", pad=\"3%\")\n",
    "    plt.colorbar(im, cax=cax)\n",
    "    \n",
    "\n",
    "def plot_state(x):\n",
    "    x = np.array(x)\n",
    "    U = x[2] * np.cos(x[3])\n",
    "    V = x[2] * np.sin(x[3])\n",
    "\n",
    "    fig = plt.figure()\n",
    "    plt.quiver(x[0], x[1], U, V)\n",
    "    plt.scatter(x[0], x[1], s=100)\n",
    "    plt.title('Initial Location'); plt.show()"
   ]
  },
  {
   "cell_type": "markdown",
   "metadata": {
    "slideshow": {
     "slide_type": "subslide"
    }
   },
   "source": [
    "[Wikipedia](http://en.wikipedia.org/wiki/Extended_Kalman_filter) writes: In the extended Kalman filter, the state transition and observation models need not be linear functions of the state but may instead be differentiable functions.\n",
    "\n",
    "$\\boldsymbol{x}_{k} = g(\\boldsymbol{x}_{k-1}, \\boldsymbol{u}_{k-1}) + \\boldsymbol{w}_{k-1}$\n",
    "\n",
    "$\\boldsymbol{z}_{k} = h(\\boldsymbol{x}_{k}) + \\boldsymbol{v}_{k}$\n",
    "\n",
    "Where $w_k$ and $v_k$ are the process and observation noises which are both assumed to be zero mean Multivariate Gaussian noises with covariance matrix $Q$ and $R$ respectively.\n",
    "\n",
    "The function $g$ can be used to compute the predicted state from the previous estimate and similarly the function $h$ can be used to compute the predicted measurement from the predicted state. However, $g$ and $h$ cannot be applied to the covariance directly. Instead a matrix of partial derivatives (the Jacobian matrix) is computed.\n",
    "\n",
    "At each time step, the Jacobian is evaluated with current predicted states. These matrices can be used in the Kalman filter equations. This process essentially linearizes the non-linear function around the current estimate."
   ]
  },
  {
   "cell_type": "markdown",
   "metadata": {
    "slideshow": {
     "slide_type": "subslide"
    }
   },
   "source": [
    "## State Vector - Constant Turn Rate and Velocity Vehicle Model (CTRV)\n",
    "\n",
    "Situation covered: You have a velocity sensor, which measures the vehicle speed ($v$) in heading direction ($\\psi$) and a yaw rate sensor ($\\dot \\psi$) which both have to fused with the position ($x$ & $y$) from a lidar and radar sensor.\n",
    "\n",
    "Constant Turn Rate, Constant Velocity Model for a vehicle ![CTRV Model](CTRV-Model.png)\n",
    "\n",
    "$$x_k= \\left[ \\matrix{ x \\\\ y \\\\ v \\\\ \\psi \\\\ \\dot\\psi} \\right] = \\left[ \\matrix{ \\text{Position X} \\\\ \\text{Position Y} \\\\ \\text{Velocity} \\\\ \\text{Heading} \\\\ \\text{Yaw Rate}} \\right]$$"
   ]
  },
  {
   "cell_type": "markdown",
   "metadata": {
    "slideshow": {
     "slide_type": "subslide"
    }
   },
   "source": [
    "We will fix the sensor sample rate of the sensor readings to $50~Hz$ for now."
   ]
  },
  {
   "cell_type": "code",
   "execution_count": 25,
   "metadata": {
    "collapsed": false,
    "slideshow": {
     "slide_type": "fragment"
    }
   },
   "outputs": [],
   "source": [
    "dt = 1.0/50.0 # Sample Rate of the Measurements is 50Hz"
   ]
  },
  {
   "cell_type": "markdown",
   "metadata": {
    "slideshow": {
     "slide_type": "subslide"
    }
   },
   "source": [
    "### Developing the math behind dynamic model\n",
    "\n",
    "All symbolic calculations are made with [Sympy](http://nbviewer.ipython.org/github/jrjohansson/scientific-python-lectures/blob/master/Lecture-5-Sympy.ipynb). Thanks!"
   ]
  },
  {
   "cell_type": "code",
   "execution_count": 3,
   "metadata": {
    "collapsed": false,
    "slideshow": {
     "slide_type": "fragment"
    }
   },
   "outputs": [],
   "source": [
    "vs, psis, dpsis, dts, xs, ys, phis, phids, rho = symbols('v \\psi \\dot\\psi \\Delta{t} x y \\phi \\dot\\phi \\\\rho')\n",
    "sigma_a_s, sigma_yaw_s = symbols('\\sigma_a \\sigma_{yaw}')\n",
    "\n",
    "gs = Matrix([[xs+(vs/dpsis)*(sin(psis+dpsis*dts)-sin(psis))],\n",
    "             [ys+(vs/dpsis)*(cos(psis)-cos(psis+dpsis*dts))],\n",
    "             [vs],\n",
    "             [psis+dpsis*dts],\n",
    "             [dpsis]])\n",
    "\n",
    "state = Matrix([xs,ys,psis,vs,dpsis])"
   ]
  },
  {
   "cell_type": "markdown",
   "metadata": {
    "slideshow": {
     "slide_type": "subslide"
    }
   },
   "source": [
    "## Dynamic Function $g$\n",
    "\n",
    "This formulas calculate how the state is evolving from one to the next time step"
   ]
  },
  {
   "cell_type": "code",
   "execution_count": 4,
   "metadata": {
    "collapsed": false,
    "slideshow": {
     "slide_type": "fragment"
    }
   },
   "outputs": [
    {
     "data": {
      "image/png": "[encoded data removed]",
      "text/latex": [
       "$$\\left[\\begin{matrix}x + \\frac{v}{\\dot\\psi} \\left(- \\sin{\\left (\\psi \\right )} + \\sin{\\left (\\Delta{t} \\dot\\psi + \\psi \\right )}\\right)\\\\y + \\frac{v}{\\dot\\psi} \\left(\\cos{\\left (\\psi \\right )} - \\cos{\\left (\\Delta{t} \\dot\\psi + \\psi \\right )}\\right)\\\\v\\\\\\Delta{t} \\dot\\psi + \\psi\\\\\\dot\\psi\\end{matrix}\\right]$$"
      ],
      "text/plain": [
       "⎡    v⋅(-sin(\\psi) + sin(\\Delta{t}⋅\\dot\\psi + \\psi))⎤\n",
       "⎢x + ───────────────────────────────────────────────⎥\n",
       "⎢                        \\dot\\psi                   ⎥\n",
       "⎢                                                   ⎥\n",
       "⎢    v⋅(cos(\\psi) - cos(\\Delta{t}⋅\\dot\\psi + \\psi)) ⎥\n",
       "⎢y + ────────────────────────────────────────────── ⎥\n",
       "⎢                       \\dot\\psi                    ⎥\n",
       "⎢                                                   ⎥\n",
       "⎢                         v                         ⎥\n",
       "⎢                                                   ⎥\n",
       "⎢             \\Delta{t}⋅\\dot\\psi + \\psi             ⎥\n",
       "⎢                                                   ⎥\n",
       "⎣                     \\dot\\psi                      ⎦"
      ]
     },
     "execution_count": 4,
     "metadata": {},
     "output_type": "execute_result"
    }
   ],
   "source": [
    "gs"
   ]
  },
  {
   "cell_type": "markdown",
   "metadata": {
    "slideshow": {
     "slide_type": "subslide"
    }
   },
   "source": [
    "### Calculate the Jacobian of the Dynamic function $g$ with respect to the state vector $x$"
   ]
  },
  {
   "cell_type": "code",
   "execution_count": 5,
   "metadata": {
    "collapsed": false,
    "slideshow": {
     "slide_type": "skip"
    }
   },
   "outputs": [
    {
     "data": {
      "image/png": "[encoded data removed]",
      "text/latex": [
       "$$\\left[\\begin{matrix}x\\\\y\\\\\\psi\\\\v\\\\\\dot\\psi\\end{matrix}\\right]$$"
      ],
      "text/plain": [
       "⎡   x    ⎤\n",
       "⎢        ⎥\n",
       "⎢   y    ⎥\n",
       "⎢        ⎥\n",
       "⎢  \\psi  ⎥\n",
       "⎢        ⎥\n",
       "⎢   v    ⎥\n",
       "⎢        ⎥\n",
       "⎣\\dot\\psi⎦"
      ]
     },
     "execution_count": 5,
     "metadata": {},
     "output_type": "execute_result"
    }
   ],
   "source": [
    "state"
   ]
  },
  {
   "cell_type": "markdown",
   "metadata": {},
   "source": [
    "We will also set the inital state"
   ]
  },
  {
   "cell_type": "code",
   "execution_count": 80,
   "metadata": {
    "collapsed": false
   },
   "outputs": [
    {
     "name": "stdout",
     "output_type": "stream",
     "text": [
      "[[   1.00000]\n",
      " [   2.00000]\n",
      " [   0.10000]\n",
      " [   0.30000]\n",
      " [   0.10000]]\n"
     ]
    },
    {
     "data": {
      "image/png": "[encoded data removed]",
      "text/plain": [
       "<matplotlib.figure.Figure at 0x7ff7e1144dd8>"
      ]
     },
     "metadata": {},
     "output_type": "display_data"
    }
   ],
   "source": [
    "x = np.matrix([1., 2., 0.1, 0.3, 0.1]).T\n",
    "print(x)\n",
    "plot_state(x)"
   ]
  },
  {
   "cell_type": "code",
   "execution_count": 6,
   "metadata": {
    "collapsed": false,
    "slideshow": {
     "slide_type": "fragment"
    }
   },
   "outputs": [
    {
     "data": {
      "image/png": "[encoded data removed]",
      "text/latex": [
       "$$\\left[\\begin{matrix}1 & 0 & \\frac{v}{\\dot\\psi} \\left(- \\cos{\\left (\\psi \\right )} + \\cos{\\left (\\Delta{t} \\dot\\psi + \\psi \\right )}\\right) & \\frac{1}{\\dot\\psi} \\left(- \\sin{\\left (\\psi \\right )} + \\sin{\\left (\\Delta{t} \\dot\\psi + \\psi \\right )}\\right) & \\frac{\\Delta{t} v}{\\dot\\psi} \\cos{\\left (\\Delta{t} \\dot\\psi + \\psi \\right )} - \\frac{v}{\\dot\\psi^{2}} \\left(- \\sin{\\left (\\psi \\right )} + \\sin{\\left (\\Delta{t} \\dot\\psi + \\psi \\right )}\\right)\\\\0 & 1 & \\frac{v}{\\dot\\psi} \\left(- \\sin{\\left (\\psi \\right )} + \\sin{\\left (\\Delta{t} \\dot\\psi + \\psi \\right )}\\right) & \\frac{1}{\\dot\\psi} \\left(\\cos{\\left (\\psi \\right )} - \\cos{\\left (\\Delta{t} \\dot\\psi + \\psi \\right )}\\right) & \\frac{\\Delta{t} v}{\\dot\\psi} \\sin{\\left (\\Delta{t} \\dot\\psi + \\psi \\right )} - \\frac{v}{\\dot\\psi^{2}} \\left(\\cos{\\left (\\psi \\right )} - \\cos{\\left (\\Delta{t} \\dot\\psi + \\psi \\right )}\\right)\\\\0 & 0 & 0 & 1 & 0\\\\0 & 0 & 1 & 0 & \\Delta{t}\\\\0 & 0 & 0 & 0 & 1\\end{matrix}\\right]$$"
      ],
      "text/plain": [
       "⎡      v⋅(-cos(\\psi) + cos(\\Delta{t}⋅\\dot\\psi + \\psi))  -sin(\\psi) + sin(\\Delt\n",
       "⎢1  0  ───────────────────────────────────────────────  ──────────────────────\n",
       "⎢                          \\dot\\psi                                       \\dot\n",
       "⎢                                                                             \n",
       "⎢                                                                             \n",
       "⎢      v⋅(-sin(\\psi) + sin(\\Delta{t}⋅\\dot\\psi + \\psi))  cos(\\psi) - cos(\\Delta\n",
       "⎢0  1  ───────────────────────────────────────────────  ──────────────────────\n",
       "⎢                          \\dot\\psi                                      \\dot\\\n",
       "⎢                                                                             \n",
       "⎢                                                                             \n",
       "⎢0  0                         0                                              1\n",
       "⎢                                                                             \n",
       "⎢0  0                         1                                              0\n",
       "⎢                                                                             \n",
       "⎣0  0                         0                                              0\n",
       "\n",
       "a{t}⋅\\dot\\psi + \\psi)  \\Delta{t}⋅v⋅cos(\\Delta{t}⋅\\dot\\psi + \\psi)   v⋅(-sin(\\p\n",
       "─────────────────────  ────────────────────────────────────────── - ──────────\n",
       "\\psi                                    \\dot\\psi                              \n",
       "                                                                              \n",
       "                                                                              \n",
       "{t}⋅\\dot\\psi + \\psi)   \\Delta{t}⋅v⋅sin(\\Delta{t}⋅\\dot\\psi + \\psi)   v⋅(cos(\\ps\n",
       "────────────────────   ────────────────────────────────────────── - ──────────\n",
       "psi                                     \\dot\\psi                              \n",
       "                                                                              \n",
       "                                                                              \n",
       "                                                                    0         \n",
       "                                                                              \n",
       "                                                                \\Delta{t}     \n",
       "                                                                              \n",
       "                                                                    1         \n",
       "\n",
       "si) + sin(\\Delta{t}⋅\\dot\\psi + \\psi))⎤\n",
       "─────────────────────────────────────⎥\n",
       "                 2                   ⎥\n",
       "         \\dot\\psi                    ⎥\n",
       "                                     ⎥\n",
       "i) - cos(\\Delta{t}⋅\\dot\\psi + \\psi)) ⎥\n",
       "──────────────────────────────────── ⎥\n",
       "                2                    ⎥\n",
       "        \\dot\\psi                     ⎥\n",
       "                                     ⎥\n",
       "                                     ⎥\n",
       "                                     ⎥\n",
       "                                     ⎥\n",
       "                                     ⎥\n",
       "                                     ⎦"
      ]
     },
     "execution_count": 6,
     "metadata": {},
     "output_type": "execute_result"
    }
   ],
   "source": [
    "gs.jacobian(state)"
   ]
  },
  {
   "cell_type": "markdown",
   "metadata": {
    "slideshow": {
     "slide_type": "skip"
    }
   },
   "source": [
    "It has to be computed on every filter step because it consists of state variables!"
   ]
  },
  {
   "cell_type": "code",
   "execution_count": 94,
   "metadata": {
    "collapsed": false
   },
   "outputs": [
    {
     "name": "stdout",
     "output_type": "stream",
     "text": [
      "[[   1.00000    0.00000   -0.00059    0.01910   -0.00001]\n",
      " [   0.00000    1.00000    0.00191    0.00593    0.00002]\n",
      " [   0.00000    0.00000    0.00000    1.00000    0.00000]\n",
      " [   0.00000    0.00000    1.00000    0.00000    0.02000]\n",
      " [   0.00000    0.00000    0.00000    0.00000    1.00000]]\n",
      "Shape: (5, 5)\n"
     ]
    }
   ],
   "source": [
    "def update_F(x, dt):\n",
    "    assert len(x) == 5, \"State vector can only have 5 elements!\"\n",
    "    \n",
    "    px, py, v, yaw, yawd = x\n",
    "    Fj02 = v/yawd * (np.cos(dt*yawd + yaw) - np.cos(yaw))\n",
    "    Fj03 = 1/yawd * (np.sin(dt*yawd + yaw) - np.sin(yaw))\n",
    "    Fj04 = dt*v/yawd * np.cos(dt*yawd + yaw) - v/(yawd*yawd)*(np.sin(dt*yawd + yaw) - np.sin(yaw))\n",
    "    Fj12 = v/yawd * (np.sin(dt*yawd + yaw) - np.sin(yaw))\n",
    "    Fj13 = 1/yawd * (np.cos(yaw) - np.cos(dt*yawd + yaw))\n",
    "    Fj14 = dt*v/yawd * np.sin(dt*yawd + yaw) - v/(yawd*yawd)*(np.cos(yaw) - np.cos(dt*yawd + yaw))\n",
    "    F = np.matrix([[1.,  0.,  Fj02, Fj03, Fj04],\n",
    "                   [0.,  1.,  Fj12, Fj13, Fj14],\n",
    "                   [0.,  0.,  0.,    1.,    0.],\n",
    "                   [0.,  0.,  1.,    0.,    dt],\n",
    "                   [0.,  0.,  0.,    0.,    1.]])\n",
    "    return F\n",
    "\n",
    "F = update_F(x, dt)\n",
    "print(F)\n",
    "print(\"Shape: {}\".format(F.shape))"
   ]
  },
  {
   "cell_type": "markdown",
   "metadata": {
    "slideshow": {
     "slide_type": "subslide"
    }
   },
   "source": [
    "## Initial Uncertainty $P_0$\n",
    "\n",
    "Initialized with $0$ means you are pretty sure where the vehicle starts"
   ]
  },
  {
   "cell_type": "code",
   "execution_count": 7,
   "metadata": {
    "collapsed": false,
    "slideshow": {
     "slide_type": "fragment"
    }
   },
   "outputs": [
    {
     "name": "stdout",
     "output_type": "stream",
     "text": [
      "[[1000.00000    0.00000    0.00000    0.00000    0.00000]\n",
      " [   0.00000 1000.00000    0.00000    0.00000    0.00000]\n",
      " [   0.00000    0.00000 1000.00000    0.00000    0.00000]\n",
      " [   0.00000    0.00000    0.00000 1000.00000    0.00000]\n",
      " [   0.00000    0.00000    0.00000    0.00000 1000.00000]]\n",
      "Shape: (5, 5)\n"
     ]
    }
   ],
   "source": [
    "P = np.diag([1000.0, 1000.0, 1000.0, 1000.0, 1000.0])\n",
    "print(P)\n",
    "print(\"Shape: {}\".format(P.shape))"
   ]
  },
  {
   "cell_type": "code",
   "execution_count": 8,
   "metadata": {
    "collapsed": false,
    "slideshow": {
     "slide_type": "skip"
    }
   },
   "outputs": [
    {
     "data": {
      "image/png": "[encoded data removed]",
      "text/plain": [
       "<matplotlib.figure.Figure at 0x7ff7a9da8e48>"
      ]
     },
     "metadata": {},
     "output_type": "display_data"
    }
   ],
   "source": [
    "fig = plt.figure(figsize=(5, 5))\n",
    "plt.title('Initial Covariance Matrix $P$')\n",
    "plot_covariance_matrix(fig, P)\n",
    "plt.tight_layout()"
   ]
  },
  {
   "cell_type": "markdown",
   "metadata": {
    "slideshow": {
     "slide_type": "subslide"
    }
   },
   "source": [
    "## Process Noise Covariance Matrix $Q$\n",
    "\n",
    "\"*The state uncertainty model models the disturbances which excite the linear system. Conceptually, it estimates how bad things can get when the system is run open loop for a given period of time.*\" - Kelly, A. (1994). A 3D state space formulation of a navigation Kalman filter for autonomous vehicles, (May). Retrieved from http://oai.dtic.mil/oai/oai?verb=getRecord&metadataPrefix=html&identifier=ADA282853"
   ]
  },
  {
   "cell_type": "code",
   "execution_count": 9,
   "metadata": {
    "collapsed": false
   },
   "outputs": [
    {
     "data": {
      "image/png": "[encoded data removed]",
      "text/latex": [
       "$$\\left[\\begin{matrix}0.25 \\Delta{t}^{4} \\sigma_a^{2} & 0.25 \\Delta{t}^{4} \\sigma_a^{2} & 0.5 \\Delta{t}^{3} \\sigma_a^{2} & 0 & 0\\\\0.25 \\Delta{t}^{4} \\sigma_a^{2} & 0.25 \\Delta{t}^{4} \\sigma_a^{2} & 0.5 \\Delta{t}^{3} \\sigma_a^{2} & 0 & 0\\\\0.5 \\Delta{t}^{3} \\sigma_a^{2} & 0.5 \\Delta{t}^{3} \\sigma_a^{2} & \\Delta{t}^{2} \\sigma_a^{2} & 0 & 0\\\\0 & 0 & 0 & 0.25 \\Delta{t}^{4} \\sigma_{yaw}^{2} & 0.5 \\Delta{t}^{3} \\sigma_{yaw}^{2}\\\\0 & 0 & 0 & 0.5 \\Delta{t}^{3} \\sigma_{yaw}^{2} & \\Delta{t}^{2} \\sigma_{yaw}^{2}\\end{matrix}\\right]$$"
      ],
      "text/plain": [
       "⎡              4        2                4        2               3        2  \n",
       "⎢0.25⋅\\Delta{t} ⋅\\sigmaₐ   0.25⋅\\Delta{t} ⋅\\sigmaₐ   0.5⋅\\Delta{t} ⋅\\sigmaₐ   \n",
       "⎢                                                                             \n",
       "⎢              4        2                4        2               3        2  \n",
       "⎢0.25⋅\\Delta{t} ⋅\\sigmaₐ   0.25⋅\\Delta{t} ⋅\\sigmaₐ   0.5⋅\\Delta{t} ⋅\\sigmaₐ   \n",
       "⎢                                                                             \n",
       "⎢             3        2                3        2              2        2    \n",
       "⎢0.5⋅\\Delta{t} ⋅\\sigmaₐ    0.5⋅\\Delta{t} ⋅\\sigmaₐ      \\Delta{t} ⋅\\sigmaₐ     \n",
       "⎢                                                                             \n",
       "⎢                                                                             \n",
       "⎢           0                         0                         0             \n",
       "⎢                                                                             \n",
       "⎢                                                                             \n",
       "⎣           0                         0                         0             \n",
       "\n",
       "                                                           ⎤\n",
       "              0                             0              ⎥\n",
       "                                                           ⎥\n",
       "                                                           ⎥\n",
       "              0                             0              ⎥\n",
       "                                                           ⎥\n",
       "                                                           ⎥\n",
       "              0                             0              ⎥\n",
       "                                                           ⎥\n",
       "              4             2               3             2⎥\n",
       "0.25⋅\\Delta{t} ⋅\\sigma_{yaw}   0.5⋅\\Delta{t} ⋅\\sigma_{yaw} ⎥\n",
       "                                                           ⎥\n",
       "             3             2              2             2  ⎥\n",
       "0.5⋅\\Delta{t} ⋅\\sigma_{yaw}      \\Delta{t} ⋅\\sigma_{yaw}   ⎦"
      ]
     },
     "execution_count": 9,
     "metadata": {},
     "output_type": "execute_result"
    }
   ],
   "source": [
    "Gs = Matrix([[0.5*dts**2, 0],\n",
    "             [0.5*dts**2, 0],\n",
    "             [dts,        0],\n",
    "             [0,          0.5*dts**2],\n",
    "             [0,          dts]])\n",
    "Gs\n",
    "\n",
    "Qvs = Matrix([[sigma_a_s**2, 0],\n",
    "              [0,            sigma_yaw_s**2]])\n",
    "\n",
    "Qvs\n",
    "\n",
    "Qs = Gs*Qvs*Gs.T\n",
    "Qs"
   ]
  },
  {
   "cell_type": "code",
   "execution_count": 10,
   "metadata": {
    "collapsed": false
   },
   "outputs": [
    {
     "name": "stdout",
     "output_type": "stream",
     "text": [
      "[[   0.00003    0.00003    0.00100    0.00000    0.00000]\n",
      " [   0.00003    0.00003    0.00100    0.00000    0.00000]\n",
      " [   0.00100    0.00100    0.04000    0.00000    0.00000]\n",
      " [   0.00000    0.00000    0.00000    0.00000    0.00002]\n",
      " [   0.00000    0.00000    0.00000    0.00002    0.00063]]\n",
      "Shape: (5, 5)\n"
     ]
    }
   ],
   "source": [
    "dt = 0.05\n",
    "std_a = 4.0 # m/s^2\n",
    "std_yawd = 0.5 # rad/s^2\n",
    "pos_noise = 0.5*std_a*dt**2\n",
    "yaw_noise = 0.5*std_yawd*dt**2\n",
    "\n",
    "def update_Q(dt = 0.05):\n",
    "    q1 = 0.25*(dt**4)*(std_a**2)\n",
    "    q2 = 0.5*(dt**3)*(std_a**2)\n",
    "    q3 = (dt**2)*(std_a**2)\n",
    "    q4 = 0.25*(dt**4)*(std_yawd**2)\n",
    "    q5 = 0.5*(dt**3)*(std_yawd**2)\n",
    "    q6 = (dt**2)*(std_yawd**2)\n",
    "    Q = np.matrix([[q1,  q1,  q2,  0,  0],\n",
    "                   [q1,  q1,  q2,  0,  0],\n",
    "                   [q2,  q2,  q3,  0,  0],\n",
    "                   [0,   0,   0,   q4, q5],\n",
    "                   [0,   0,   0,   q5, q6]])\n",
    "    return Q\n",
    "\n",
    "Q = update_Q(dt)\n",
    "print(Q)\n",
    "print(\"Shape: {}\".format(Q.shape))"
   ]
  },
  {
   "cell_type": "code",
   "execution_count": 11,
   "metadata": {
    "collapsed": false,
    "slideshow": {
     "slide_type": "skip"
    }
   },
   "outputs": [
    {
     "data": {
      "image/png": "[encoded data removed]",
      "text/plain": [
       "<matplotlib.figure.Figure at 0x7ff7e0d1eef0>"
      ]
     },
     "metadata": {},
     "output_type": "display_data"
    }
   ],
   "source": [
    "fig = plt.figure(figsize=(5, 5))\n",
    "plt.title('Process Noise Covariance Matrix $Q$')\n",
    "plot_covariance_matrix(fig, Q)"
   ]
  },
  {
   "cell_type": "markdown",
   "metadata": {
    "slideshow": {
     "slide_type": "subslide"
    }
   },
   "source": [
    "## Real Measurements"
   ]
  },
  {
   "cell_type": "code",
   "execution_count": 12,
   "metadata": {
    "collapsed": false
   },
   "outputs": [
    {
     "name": "stdout",
     "output_type": "stream",
     "text": [
      "['L', 0.3122427, 0.5803398, 1477010443000000, 0.6, 0.6, 5.199937, 0.0, 0.0, 0.006911322]\n",
      "\n",
      "['R', 1.014892, 0.5543292, 4.892807, 1477010443050000, 0.8599968, 0.6000449, 5.199747, 0.001796856, 0.0003455661, 0.01382155]\n",
      "\n",
      "['L', 1.173848, 0.4810729, 1477010443100000, 1.119984, 0.6002246, 5.199429, 0.005389957, 0.001036644, 0.0207296]\n",
      "\n",
      "['R', 1.047505, 0.3892401, 4.511325, 1477010443150000, 1.379955, 0.6006288, 5.198979, 0.01077814, 0.002073124, 0.02763437]\n",
      "\n",
      "['L', 1.650626, 0.6246904, 1477010443200000, 1.639904, 0.6013473, 5.198392, 0.0179597, 0.003454842, 0.03453479]\n",
      "\n",
      "['R', 1.6983, 0.2982801, 5.209986, 1477010443250000, 1.899823, 0.6024697, 5.197661, 0.02693234, 0.005181582, 0.04142974]\n",
      "\n",
      "['L', 2.188824, 0.6487392, 1477010443300000, 2.159704, 0.6040855, 5.196776, 0.03769324, 0.007253069, 0.04831816]\n",
      "\n",
      "['R', 2.044382, 0.2760018, 5.043867, 1477010443350000, 2.41954, 0.606284, 5.195728, 0.05023894, 0.009668977, 0.05519894]\n",
      "\n",
      "['L', 2.655256, 0.6659798, 1477010443400000, 2.679323, 0.6091545, 5.194504, 0.06456542, 0.01242892, 0.06207101]\n",
      "\n",
      "['R', 2.990916, 0.2176679, 5.191807, 1477010443450000, 2.939043, 0.6127858, 5.19309, 0.08066803, 0.01553247, 0.06893328]\n",
      "\n"
     ]
    }
   ],
   "source": [
    "OUTPUT_FILE_ALLSENSORS=\"../data/obj_pose-laser-radar-synthetic-input.txt\"\n",
    "\n",
    "def parse_csv(filename):\n",
    "    measurements = []\n",
    "    with open(OUTPUT_FILE_ALLSENSORS, newline='') as csvfile:\n",
    "        reader = csv.reader(csvfile, delimiter='\\t', quotechar='|')\n",
    "        for row in reader:\n",
    "            if row[0] == \"L\":\n",
    "                sensor, px, py, timestamp, x_gt, y_gt, vx_gt, vy_gt, yaw_gt, yawrate_gt = row\n",
    "                measurements.append([sensor, float(px), float(py), int(timestamp), float(x_gt), float(y_gt), float(vx_gt), float(vy_gt), float(yaw_gt), float(yawrate_gt)])\n",
    "            elif row[0] == \"R\":            \n",
    "                sensor, ro, theta, ro_dot, timestamp, x_gt, y_gt, vx_gt, vy_gt, yaw_gt, yawrate_gt = row\n",
    "                measurements.append([sensor, float(ro), float(theta), float(ro_dot), int(timestamp), float(x_gt), float(y_gt), float(vx_gt), float(vy_gt), float(yaw_gt), float(yawrate_gt)])\n",
    "\n",
    "    return measurements\n",
    "\n",
    "measurements = np.array(parse_csv(OUTPUT_FILE_ALLSENSORS))\n",
    "[print(\"{}\\n\".format(measurements[i])) for i in range(10)];"
   ]
  },
  {
   "cell_type": "markdown",
   "metadata": {
    "slideshow": {
     "slide_type": "subslide"
    }
   },
   "source": [
    "## Measurement Function $h$\n",
    "\n",
    "The measurement function describes how the state vector maps into the sensor measurement.\n",
    "Measurements from the lidar sensor can be directly transformed into the state vector and vice versa by applying linear kinematics equations, that's why the measurement function $h_{lidar}$ and hence the matrix $H_{lidar}$ are derived straight forward.\n",
    "\n",
    "For radar measurements however this does not apply, transforming the state vector into the measurement vector involves non-linear functions like trigonometric functions like $tan$ or $arctan$. This means we have to linearize the equations by applying taylor series expansion and therefore calculating the jacobian of $H_{radar}$ with respect to the state vector."
   ]
  },
  {
   "cell_type": "code",
   "execution_count": 13,
   "metadata": {
    "collapsed": false,
    "slideshow": {
     "slide_type": "fragment"
    }
   },
   "outputs": [
    {
     "data": {
      "image/png": "[encoded data removed]",
      "text/latex": [
       "$$\\left[\\begin{matrix}x\\\\y\\end{matrix}\\right]$$"
      ],
      "text/plain": [
       "⎡x⎤\n",
       "⎢ ⎥\n",
       "⎣y⎦"
      ]
     },
     "execution_count": 13,
     "metadata": {},
     "output_type": "execute_result"
    }
   ],
   "source": [
    "hs_lidar = Matrix([[xs],  [ys]])\n",
    "hs_lidar"
   ]
  },
  {
   "cell_type": "code",
   "execution_count": 24,
   "metadata": {
    "collapsed": false
   },
   "outputs": [
    {
     "data": {
      "image/png": "[encoded data removed]",
      "text/latex": [
       "$$\\left[\\begin{matrix}1 & 0 & 0 & 0 & 0\\\\0 & 1 & 0 & 0 & 0\\end{matrix}\\right]$$"
      ],
      "text/plain": [
       "⎡1  0  0  0  0⎤\n",
       "⎢             ⎥\n",
       "⎣0  1  0  0  0⎦"
      ]
     },
     "execution_count": 24,
     "metadata": {},
     "output_type": "execute_result"
    }
   ],
   "source": [
    "JHs_lidar=hs_lidar.jacobian(state)\n",
    "JHs_lidar"
   ]
  },
  {
   "cell_type": "code",
   "execution_count": null,
   "metadata": {
    "collapsed": true
   },
   "outputs": [],
   "source": [
    "H_lidar = np.matrix([[1, 0, 0, 0],\n",
    "                     [0, 1, 0, 0]])"
   ]
  },
  {
   "cell_type": "code",
   "execution_count": 14,
   "metadata": {
    "collapsed": false
   },
   "outputs": [
    {
     "data": {
      "image/png": "[encoded data removed]",
      "text/latex": [
       "$$\\left[\\begin{matrix}\\sqrt{x^{2} + y^{2}}\\\\\\operatorname{atan}{\\left (\\frac{y}{x} \\right )}\\\\\\frac{1}{\\sqrt{x^{2} + y^{2}}} \\left(v x \\cos{\\left (\\phi \\right )} + v y \\sin{\\left (\\phi \\right )}\\right)\\end{matrix}\\right]$$"
      ],
      "text/plain": [
       "⎡           _________         ⎤\n",
       "⎢          ╱  2    2          ⎥\n",
       "⎢        ╲╱  x  + y           ⎥\n",
       "⎢                             ⎥\n",
       "⎢               ⎛y⎞           ⎥\n",
       "⎢           atan⎜─⎟           ⎥\n",
       "⎢               ⎝x⎠           ⎥\n",
       "⎢                             ⎥\n",
       "⎢v⋅x⋅cos(\\phi) + v⋅y⋅sin(\\phi)⎥\n",
       "⎢─────────────────────────────⎥\n",
       "⎢            _________        ⎥\n",
       "⎢           ╱  2    2         ⎥\n",
       "⎣         ╲╱  x  + y          ⎦"
      ]
     },
     "execution_count": 14,
     "metadata": {},
     "output_type": "execute_result"
    }
   ],
   "source": [
    "hs_radar = Matrix([[phis], [phids], [rho]])\n",
    "hs_radar\n",
    "vs, psis, dpsis, dts, xs, ys, phis, phids, rho = symbols('v \\psi \\dot\\psi \\Delta{t} x y \\phi \\dot\\phi \\\\rho')\n",
    "vxs = vs*cos(phis)\n",
    "vys = vs*sin(phis)\n",
    "hs_radar =  Matrix([[sqrt(xs**2 + ys**2)],\n",
    "                    [atan(ys/xs)],\n",
    "                    [(xs*vxs + ys*vys) / sqrt(Pow(xs,2) + Pow(ys,2))]])\n",
    "\n",
    "hs_radar"
   ]
  },
  {
   "cell_type": "code",
   "execution_count": 16,
   "metadata": {
    "collapsed": false
   },
   "outputs": [
    {
     "data": {
      "image/png": "[encoded data removed]",
      "text/latex": [
       "$$\\left[\\begin{matrix}\\frac{x}{\\sqrt{x^{2} + y^{2}}} & \\frac{y}{\\sqrt{x^{2} + y^{2}}} & 0 & 0 & 0\\\\- \\frac{y}{x^{2} \\left(1 + \\frac{y^{2}}{x^{2}}\\right)} & \\frac{1}{x \\left(1 + \\frac{y^{2}}{x^{2}}\\right)} & 0 & 0 & 0\\\\\\frac{v \\cos{\\left (\\phi \\right )}}{\\sqrt{x^{2} + y^{2}}} - \\frac{x}{\\left(x^{2} + y^{2}\\right)^{\\frac{3}{2}}} \\left(v x \\cos{\\left (\\phi \\right )} + v y \\sin{\\left (\\phi \\right )}\\right) & \\frac{v \\sin{\\left (\\phi \\right )}}{\\sqrt{x^{2} + y^{2}}} - \\frac{y}{\\left(x^{2} + y^{2}\\right)^{\\frac{3}{2}}} \\left(v x \\cos{\\left (\\phi \\right )} + v y \\sin{\\left (\\phi \\right )}\\right) & 0 & \\frac{1}{\\sqrt{x^{2} + y^{2}}} \\left(x \\cos{\\left (\\phi \\right )} + y \\sin{\\left (\\phi \\right )}\\right) & 0\\end{matrix}\\right]$$"
      ],
      "text/plain": [
       "⎡                       x                                                 y   \n",
       "⎢                  ────────────                                      ─────────\n",
       "⎢                     _________                                         ______\n",
       "⎢                    ╱  2    2                                         ╱  2   \n",
       "⎢                  ╲╱  x  + y                                        ╲╱  x  + \n",
       "⎢                                                                             \n",
       "⎢                      -y                                                 1   \n",
       "⎢                  ───────────                                        ────────\n",
       "⎢                     ⎛     2⎞                                          ⎛     \n",
       "⎢                   2 ⎜    y ⎟                                          ⎜    y\n",
       "⎢                  x ⋅⎜1 + ──⎟                                        x⋅⎜1 + ─\n",
       "⎢                     ⎜     2⎟                                          ⎜     \n",
       "⎢                     ⎝    x ⎠                                          ⎝    x\n",
       "⎢                                                                             \n",
       "⎢v⋅cos(\\phi)    x⋅(v⋅x⋅cos(\\phi) + v⋅y⋅sin(\\phi))  v⋅sin(\\phi)    y⋅(v⋅x⋅cos(\\\n",
       "⎢──────────── - ─────────────────────────────────  ──────────── - ────────────\n",
       "⎢   _________                       3/2               _________               \n",
       "⎢  ╱  2    2               ⎛ 2    2⎞                 ╱  2    2               ⎛\n",
       "⎣╲╱  x  + y                ⎝x  + y ⎠               ╲╱  x  + y                ⎝\n",
       "\n",
       "                                                      ⎤\n",
       "───                    0              0              0⎥\n",
       "___                                                   ⎥\n",
       " 2                                                    ⎥\n",
       "y                                                     ⎥\n",
       "                                                      ⎥\n",
       "                                                      ⎥\n",
       "──                     0              0              0⎥\n",
       "2⎞                                                    ⎥\n",
       " ⎟                                                    ⎥\n",
       "─⎟                                                    ⎥\n",
       "2⎟                                                    ⎥\n",
       " ⎠                                                    ⎥\n",
       "                                                      ⎥\n",
       "phi) + v⋅y⋅sin(\\phi))     x⋅cos(\\phi) + y⋅sin(\\phi)   ⎥\n",
       "─────────────────────  0  ─────────────────────────  0⎥\n",
       "        3/2                         _________         ⎥\n",
       " 2    2⎞                           ╱  2    2          ⎥\n",
       "x  + y ⎠                         ╲╱  x  + y           ⎦"
      ]
     },
     "execution_count": 16,
     "metadata": {},
     "output_type": "execute_result"
    }
   ],
   "source": [
    "JHs_radar=hs_radar.jacobian(state)\n",
    "JHs_radar"
   ]
  },
  {
   "cell_type": "code",
   "execution_count": 104,
   "metadata": {
    "collapsed": false
   },
   "outputs": [
    {
     "name": "stdout",
     "output_type": "stream",
     "text": [
      "[[matrix([[   0.44721]]) matrix([[   0.89443]]) 0 0 0]\n",
      " [matrix([[  -0.40000]]) matrix([[   0.20000]]) 0 0 0]\n",
      " [matrix([[   0.02889]]) matrix([[  -0.01445]]) 0 matrix([[   0.69156]]) 0]]\n",
      "Shape: (3, 5)\n"
     ]
    }
   ],
   "source": [
    "def update_H_radar(x):\n",
    "    assert len(x) == 5, \"State vector can only have 5 elements!\"\n",
    "    \n",
    "    px, py, v, yaw, yawd = x\n",
    "    px_2 = px*px\n",
    "    py_2 = py*py\n",
    "    norm = np.sqrt(px_2 + py_2)\n",
    "    \n",
    "    H11 = px / norm\n",
    "    H12 = py / norm\n",
    "    H21 = - py / ( (px**2) * (1 + py_2/px_2))\n",
    "    H22 = 1. / (px * (1. + py_2/px_2))\n",
    "    H31 = v * np.cos(yaw)/norm - px/(norm**3) * (v*px*np.cos(yaw) + v*py*np.sin(yaw))\n",
    "    H32 = v * np.sin(yaw)/norm - py/(norm**3) * (v*px*np.cos(yaw) + v*py*np.sin(yaw))\n",
    "    H34 = 1. / norm * (px * np.cos(yaw) + py * np.sin(yaw))\n",
    "    H = np.matrix([[H11,   H12,    0,    0,      0],\n",
    "                   [H21,   H22,    0,    0,      0],\n",
    "                   [H31,   H32,    0,    H34,    0]])\n",
    "    return H\n",
    "\n",
    "H_radar = update_H_radar(x)\n",
    "print(H_radar)\n",
    "print(\"Shape: {}\".format(H_radar.shape))"
   ]
  },
  {
   "cell_type": "markdown",
   "metadata": {
    "slideshow": {
     "slide_type": "fragment"
    }
   },
   "source": [
    "If no measurement is available, simply set the corresponding values in $J_h$ to zero."
   ]
  },
  {
   "cell_type": "markdown",
   "metadata": {
    "slideshow": {
     "slide_type": "subslide"
    }
   },
   "source": [
    "## Measurement Noise Covariance $R$\n",
    "\n",
    "\"In practical use, the uncertainty estimates take on the significance of relative weights of state estimates and measurements. So it is not so much important that uncertainty is absolutely correct as it is that it be relatively consistent across all models\" - Kelly, A. (1994). A 3D state space formulation of a navigation Kalman filter for autonomous vehicles, (May). Retrieved from http://oai.dtic.mil/oai/oai?verb=getRecord&metadataPrefix=html&identifier=ADA282853"
   ]
  },
  {
   "cell_type": "code",
   "execution_count": 105,
   "metadata": {
    "collapsed": false,
    "slideshow": {
     "slide_type": "fragment"
    }
   },
   "outputs": [
    {
     "name": "stdout",
     "output_type": "stream",
     "text": [
      "[[   0.15000    0.00000]\n",
      " [   0.00000    0.15000]]\n",
      "Shape: (2, 2)\n",
      "[[   0.30000    0.00000    0.00000]\n",
      " [   0.00000    0.03000    0.00000]\n",
      " [   0.00000    0.00000    0.10000]]\n",
      "Shape: (3, 3)\n"
     ]
    }
   ],
   "source": [
    "stdLidar       = 0.15   # standard deviation of lidar position measurement, applies for x and y [m]\n",
    "stdRadarRange  = 0.3    # standard deviation of radius radar measurement [m]\n",
    "stdRadarRo     = 0.03   # standard deviation of angle radar measurement [rad]\n",
    "stdRadarRoDot  = 0.1    # standard deviation of angle rate radar measurement [rad/s]\n",
    "R_lidar = np.matrix([[stdLidar,  0.0,      ],\n",
    "                     [0.0,       stdLidar, ]])\n",
    "print(R_lidar)\n",
    "print(\"Shape: {}\".format(R_lidar.shape))\n",
    "\n",
    "R_radar =  np.matrix([[stdRadarRange, 0.0,         0],\n",
    "                     [0.0,            stdRadarRo,  0],\n",
    "                     [0.0,            0.0,         stdRadarRoDot]])\n",
    "print(R_radar)\n",
    "print(\"Shape: {}\".format(R_radar.shape))"
   ]
  },
  {
   "cell_type": "code",
   "execution_count": 18,
   "metadata": {
    "collapsed": false,
    "slideshow": {
     "slide_type": "skip"
    }
   },
   "outputs": [
    {
     "data": {
      "image/png": "[encoded data removed]",
      "text/plain": [
       "<matplotlib.figure.Figure at 0x7ff7e14a91d0>"
      ]
     },
     "metadata": {},
     "output_type": "display_data"
    },
    {
     "data": {
      "image/png": "[encoded data removed]",
      "text/plain": [
       "<matplotlib.figure.Figure at 0x7ff7e1665e80>"
      ]
     },
     "metadata": {},
     "output_type": "display_data"
    }
   ],
   "source": [
    "fig = plt.figure(figsize=(4.5, 4.5))\n",
    "plt.title('Measurement Noise Covariance Matrix $R_{lidar}$')\n",
    "plot_covariance_matrix(fig, R_lidar, [\"$x$\", \"$y$\"])\n",
    "\n",
    "fig = plt.figure(figsize=(4.5, 4.5))\n",
    "plt.title('Measurement Noise Covariance Matrix $R_{radar}$')\n",
    "plot_covariance_matrix(fig, R_radar, [\"$\\phi$\", \"$\\dot\\phi$\", \"$\\\\rho$\"])"
   ]
  },
  {
   "cell_type": "markdown",
   "metadata": {},
   "source": []
  },
  {
   "cell_type": "markdown",
   "metadata": {
    "slideshow": {
     "slide_type": "skip"
    }
   },
   "source": [
    "### Put everything together as a measurement vector"
   ]
  },
  {
   "cell_type": "code",
   "execution_count": 20,
   "metadata": {
    "collapsed": false,
    "slideshow": {
     "slide_type": "skip"
    }
   },
   "outputs": [
    {
     "name": "stdout",
     "output_type": "stream",
     "text": [
      "(500,)\n",
      "['L', 0.3122427, 0.5803398, 1477010443000000, 0.6, 0.6, 5.199937, 0.0, 0.0, 0.006911322]\n"
     ]
    }
   ],
   "source": [
    "# Lenth of the measurement\n",
    "m = measurements.shape[0]\n",
    "print(measurements.shape)\n",
    "print(measurements[0])"
   ]
  },
  {
   "cell_type": "code",
   "execution_count": 21,
   "metadata": {
    "collapsed": false,
    "slideshow": {
     "slide_type": "skip"
    }
   },
   "outputs": [],
   "source": [
    "# Preallocation for Plotting\n",
    "x0 = []\n",
    "x1 = []\n",
    "x2 = []\n",
    "x3 = []\n",
    "x4 = []\n",
    "x5 = []\n",
    "Zx = []\n",
    "Zy = []\n",
    "Px = []\n",
    "Py = []\n",
    "Pdx= []\n",
    "Pdy= []\n",
    "Pddx=[]\n",
    "Pddy=[]\n",
    "Kx = []\n",
    "Ky = []\n",
    "Kdx= []\n",
    "Kdy= []\n",
    "Kddx=[]\n",
    "dstate=[]\n",
    "\n",
    "\n",
    "def savestates(x, Z, P, K):\n",
    "    x0.append(float(x[0]))\n",
    "    x1.append(float(x[1]))\n",
    "    x2.append(float(x[2]))\n",
    "    x3.append(float(x[3]))\n",
    "    x4.append(float(x[4]))\n",
    "    Zx.append(float(Z[0]))\n",
    "    Zy.append(float(Z[1]))    \n",
    "    Px.append(float(P[0,0]))\n",
    "    Py.append(float(P[1,1]))\n",
    "    Pdx.append(float(P[2,2]))\n",
    "    Pdy.append(float(P[3,3]))\n",
    "    Pddx.append(float(P[4,4]))\n",
    "    Kx.append(float(K[0,0]))\n",
    "    Ky.append(float(K[1,0]))\n",
    "    Kdx.append(float(K[2,0]))\n",
    "    Kdy.append(float(K[3,0]))\n",
    "    Kddx.append(float(K[4,0]))"
   ]
  },
  {
   "cell_type": "markdown",
   "metadata": {
    "slideshow": {
     "slide_type": "slide"
    }
   },
   "source": [
    "# Extended Kalman Filter\n",
    "\n",
    "![Extended Kalman Filter Step](Extended-Kalman-Filter-Step.png)"
   ]
  },
  {
   "cell_type": "markdown",
   "metadata": {
    "slideshow": {
     "slide_type": "subslide"
    }
   },
   "source": [
    "$$x_k= \\begin{bmatrix} x \\\\ y \\\\ \\psi \\\\ v \\\\ \\dot\\psi \\end{bmatrix} = \\begin{bmatrix} \\text{Position X} \\\\ \\text{Position Y} \\\\ \\text{Heading} \\\\ \\text{Velocity} \\\\ \\text{Yaw Rate} \\end{bmatrix} =  \\underbrace{\\begin{matrix}x[0] \\\\ x[1] \\\\ x[2] \\\\ x[3] \\\\ x[4]  \\end{matrix}}_{\\textrm{Python Nomenclature}}$$"
   ]
  },
  {
   "cell_type": "code",
   "execution_count": 106,
   "metadata": {
    "collapsed": false,
    "slideshow": {
     "slide_type": "subslide"
    }
   },
   "outputs": [
    {
     "ename": "ValueError",
     "evalue": "matrix must be 2-dimensional",
     "output_type": "error",
     "traceback": [
      "\u001b[0;31m---------------------------------------------------------------------------\u001b[0m",
      "\u001b[0;31mValueError\u001b[0m                                Traceback (most recent call last)",
      "\u001b[0;32m<ipython-input-106-b15d08a00cf6>\u001b[0m in \u001b[0;36m<module>\u001b[0;34m()\u001b[0m\n\u001b[1;32m     39\u001b[0m                     \u001b[0;34m[\u001b[0m\u001b[0mx\u001b[0m\u001b[0;34m[\u001b[0m\u001b[0;36m1\u001b[0m\u001b[0;34m]\u001b[0m\u001b[0;34m]\u001b[0m\u001b[0;34m,\u001b[0m\u001b[0;34m\u001b[0m\u001b[0m\n\u001b[1;32m     40\u001b[0m                     \u001b[0;34m[\u001b[0m\u001b[0mx\u001b[0m\u001b[0;34m[\u001b[0m\u001b[0;36m3\u001b[0m\u001b[0;34m]\u001b[0m\u001b[0;34m]\u001b[0m\u001b[0;34m,\u001b[0m\u001b[0;34m\u001b[0m\u001b[0m\n\u001b[0;32m---> 41\u001b[0;31m                     [x[4]]])\n\u001b[0m\u001b[1;32m     42\u001b[0m \u001b[0;34m\u001b[0m\u001b[0m\n\u001b[1;32m     43\u001b[0m     \u001b[0;32mif\u001b[0m \u001b[0mGPS\u001b[0m\u001b[0;34m[\u001b[0m\u001b[0mfilterstep\u001b[0m\u001b[0;34m]\u001b[0m\u001b[0;34m:\u001b[0m \u001b[0;31m# with 10Hz, every 5th step\u001b[0m\u001b[0;34m\u001b[0m\u001b[0m\n",
      "\u001b[0;32m~/.conda/envs/CarND-TensorFlow-Lab/lib/python3.5/site-packages/numpy/matrixlib/defmatrix.py\u001b[0m in \u001b[0;36m__new__\u001b[0;34m(subtype, data, dtype, copy)\u001b[0m\n\u001b[1;32m    238\u001b[0m         \u001b[0mshape\u001b[0m \u001b[0;34m=\u001b[0m \u001b[0marr\u001b[0m\u001b[0;34m.\u001b[0m\u001b[0mshape\u001b[0m\u001b[0;34m\u001b[0m\u001b[0m\n\u001b[1;32m    239\u001b[0m         \u001b[0;32mif\u001b[0m \u001b[0;34m(\u001b[0m\u001b[0mndim\u001b[0m \u001b[0;34m>\u001b[0m \u001b[0;36m2\u001b[0m\u001b[0;34m)\u001b[0m\u001b[0;34m:\u001b[0m\u001b[0;34m\u001b[0m\u001b[0m\n\u001b[0;32m--> 240\u001b[0;31m             \u001b[0;32mraise\u001b[0m \u001b[0mValueError\u001b[0m\u001b[0;34m(\u001b[0m\u001b[0;34m\"matrix must be 2-dimensional\"\u001b[0m\u001b[0;34m)\u001b[0m\u001b[0;34m\u001b[0m\u001b[0m\n\u001b[0m\u001b[1;32m    241\u001b[0m         \u001b[0;32melif\u001b[0m \u001b[0mndim\u001b[0m \u001b[0;34m==\u001b[0m \u001b[0;36m0\u001b[0m\u001b[0;34m:\u001b[0m\u001b[0;34m\u001b[0m\u001b[0m\n\u001b[1;32m    242\u001b[0m             \u001b[0mshape\u001b[0m \u001b[0;34m=\u001b[0m \u001b[0;34m(\u001b[0m\u001b[0;36m1\u001b[0m\u001b[0;34m,\u001b[0m \u001b[0;36m1\u001b[0m\u001b[0;34m)\u001b[0m\u001b[0;34m\u001b[0m\u001b[0m\n",
      "\u001b[0;31mValueError\u001b[0m: matrix must be 2-dimensional"
     ]
    }
   ],
   "source": [
    "for filterstep, measurement in enumerate(measurements):\n",
    "\n",
    "    sensor_type = measurement[0]\n",
    "    if sensor_type == \"L\":\n",
    "        sensor_type, px, py, timestamp, x_gt, y_gt, vx_gt, vy_gt, yaw_gt, yawrate_gt = measurement\n",
    "    elif sensor_type == \"R\":            \n",
    "        sensor_type, ro, theta, ro_dot, timestamp, x_gt, y_gt, vx_gt, vy_gt, yaw_gt, yawrate_gt = measurement\n",
    "\n",
    "        \n",
    "    # Time Update (Prediction)\n",
    "    # ========================\n",
    "    # Project the state ahead\n",
    "    # see \"Dynamic Matrix\"\n",
    "    if np.abs(x[4]) < 0.00001: # Driving straight\n",
    "        x[0] = x[0] + x[3]*dt * np.cos(x[2])\n",
    "        x[1] = x[1] + x[3]*dt * np.sin(x[2])\n",
    "        x[2] = x[2]\n",
    "        x[3] = x[3]\n",
    "        x[4] = 0.00001 # avoid numerical issues in Jacobians\n",
    "        dstate.append(0)\n",
    "    else: # otherwise\n",
    "        x[0] = x[0] + (x[3]/x[4]) * ( np.sin(x[4]*dt+x[2]) - np.sin(x[2]))\n",
    "        x[1] = x[1] + (x[3]/x[4]) * (-np.cos(x[4]*dt+x[2]) + np.cos(x[2]))\n",
    "        x[2] = x[2]\n",
    "        x[3] = (x[3] + x[4]*dt) % (2.0*np.pi)\n",
    "        x[4] = x[4]\n",
    "        dstate.append(1)\n",
    "    \n",
    "    # Calculate the Jacobian of the Dynamic Matrix F (see above)\n",
    "    F = update_F(x, dt)\n",
    "    \n",
    "    # Project the error covariance ahead\n",
    "    P = F * P * F.T + Q\n",
    "    \n",
    "    # Measurement Update (Correction)\n",
    "    # ===============================\n",
    "    # Measurement Function ???\n",
    "    hx = np.matrix([[x[0]],\n",
    "                    [x[1]],\n",
    "                    [x[3]],\n",
    "                    [x[4]]])\n",
    "\n",
    "    if GPS[filterstep]: # with 10Hz, every 5th step\n",
    "        JH = np.matrix([[1.0, 0.0, 0.0, 0.0, 0.0],\n",
    "                        [0.0, 1.0, 0.0, 0.0, 0.0],\n",
    "                        [0.0, 0.0, 0.0, 1.0, 0.0],\n",
    "                        [0.0, 0.0, 0.0, 0.0, 1.0]])\n",
    "    else: # every other step\n",
    "        JH = np.matrix([[0.0, 0.0, 0.0, 0.0, 0.0],\n",
    "                        [0.0, 0.0, 0.0, 0.0, 0.0],\n",
    "                        [0.0, 0.0, 0.0, 1.0, 0.0],\n",
    "                        [0.0, 0.0, 0.0, 0.0, 1.0]])        \n",
    "    \n",
    "    S = JH * P * JH.T + R\n",
    "    K = (P * JH.T) * np.linalg.inv(S)\n",
    "\n",
    "    # Update the estimate via\n",
    "    Z = measurements[:,filterstep].reshape(JH.shape[0],1)\n",
    "    y = Z - x                         # Innovation or Residual\n",
    "    x = x + (K*y)\n",
    "\n",
    "    # Update the error covariance\n",
    "    P = (I - (K*JH))* P\n",
    "\n",
    "    # Save states for Plotting\n",
    "    savestates(x, Z, P, K)"
   ]
  },
  {
   "cell_type": "markdown",
   "metadata": {
    "slideshow": {
     "slide_type": "slide"
    }
   },
   "source": [
    "## Lets take a look at the filter performance"
   ]
  },
  {
   "cell_type": "code",
   "execution_count": null,
   "metadata": {
    "collapsed": false,
    "slideshow": {
     "slide_type": "skip"
    }
   },
   "outputs": [],
   "source": [
    "def plotP():\n",
    "    fig = plt.figure(figsize=(16,9))\n",
    "    plt.semilogy(range(m),Px, label='$x$')\n",
    "    plt.step(range(m),Py, label='$y$')\n",
    "    plt.step(range(m),Pdx, label='$\\psi$')\n",
    "    plt.step(range(m),Pdy, label='$v$')\n",
    "    plt.step(range(m),Pddx, label='$\\dot \\psi$')\n",
    "\n",
    "    plt.xlabel('Filter Step')\n",
    "    plt.ylabel('')\n",
    "    plt.title('Uncertainty (Elements from Matrix $P$)')\n",
    "    plt.legend(loc='best',prop={'size':22})"
   ]
  },
  {
   "cell_type": "markdown",
   "metadata": {
    "slideshow": {
     "slide_type": "subslide"
    }
   },
   "source": [
    "### Uncertainties in $P$"
   ]
  },
  {
   "cell_type": "code",
   "execution_count": null,
   "metadata": {
    "collapsed": false,
    "slideshow": {
     "slide_type": "fragment"
    }
   },
   "outputs": [],
   "source": [
    "plotP()"
   ]
  },
  {
   "cell_type": "code",
   "execution_count": null,
   "metadata": {
    "collapsed": false,
    "slideshow": {
     "slide_type": "skip"
    }
   },
   "outputs": [],
   "source": [
    "fig = plt.figure(figsize=(6, 6))\n",
    "im = plt.imshow(P, interpolation=\"none\", cmap=plt.get_cmap('binary'))\n",
    "plt.title('Covariance Matrix $P$ (after %i Filter Steps)' % (m))\n",
    "ylocs, ylabels = plt.yticks()\n",
    "# set the locations of the yticks\n",
    "plt.yticks(np.arange(6))\n",
    "# set the locations and labels of the yticks\n",
    "plt.yticks(np.arange(5),('$x$', '$y$', '$\\psi$', '$v$', '$\\dot \\psi$'), fontsize=22)\n",
    "\n",
    "xlocs, xlabels = plt.xticks()\n",
    "# set the locations of the yticks\n",
    "plt.xticks(np.arange(6))\n",
    "# set the locations and labels of the yticks\n",
    "plt.xticks(np.arange(5),('$x$', '$y$', '$\\psi$', '$v$', '$\\dot \\psi$'), fontsize=22)\n",
    "\n",
    "plt.xlim([-0.5,4.5])\n",
    "plt.ylim([4.5, -0.5])\n",
    "\n",
    "from mpl_toolkits.axes_grid1 import make_axes_locatable\n",
    "divider = make_axes_locatable(plt.gca())\n",
    "cax = divider.append_axes(\"right\", \"5%\", pad=\"3%\")\n",
    "plt.colorbar(im, cax=cax)\n",
    "\n",
    "\n",
    "plt.tight_layout()"
   ]
  },
  {
   "cell_type": "markdown",
   "metadata": {
    "slideshow": {
     "slide_type": "skip"
    }
   },
   "source": [
    "### Kalman Gains"
   ]
  },
  {
   "cell_type": "code",
   "execution_count": null,
   "metadata": {
    "collapsed": false,
    "slideshow": {
     "slide_type": "skip"
    }
   },
   "outputs": [],
   "source": [
    "fig = plt.figure(figsize=(16,9))\n",
    "plt.step(range(len(measurements[0])),Kx, label='$x$')\n",
    "plt.step(range(len(measurements[0])),Ky, label='$y$')\n",
    "plt.step(range(len(measurements[0])),Kdx, label='$\\psi$')\n",
    "plt.step(range(len(measurements[0])),Kdy, label='$v$')\n",
    "plt.step(range(len(measurements[0])),Kddx, label='$\\dot \\psi$')\n",
    "\n",
    "\n",
    "plt.xlabel('Filter Step')\n",
    "plt.ylabel('')\n",
    "plt.title('Kalman Gain (the lower, the more the measurement fullfill the prediction)')\n",
    "plt.legend(prop={'size':18})\n",
    "plt.ylim([-0.1,0.1]);"
   ]
  },
  {
   "cell_type": "markdown",
   "metadata": {
    "slideshow": {
     "slide_type": "subslide"
    }
   },
   "source": [
    "## State Vector"
   ]
  },
  {
   "cell_type": "code",
   "execution_count": null,
   "metadata": {
    "collapsed": false,
    "slideshow": {
     "slide_type": "skip"
    }
   },
   "outputs": [],
   "source": [
    "def plotx():\n",
    "    fig = plt.figure(figsize=(16,16))\n",
    "\n",
    "    plt.subplot(411)\n",
    "    plt.step(range(len(measurements[0])),x0-mx[0], label='$x$')\n",
    "    plt.step(range(len(measurements[0])),x1-my[0], label='$y$')\n",
    "\n",
    "    plt.title('Extended Kalman Filter State Estimates (State Vector $x$)')\n",
    "    plt.legend(loc='best',prop={'size':22})\n",
    "    plt.ylabel('Position (relative to start) [m]')\n",
    "\n",
    "    plt.subplot(412)\n",
    "    plt.step(range(len(measurements[0])),x2, label='$\\psi$')\n",
    "    plt.step(range(len(measurements[0])),(course/180.0*np.pi+np.pi)%(2.0*np.pi) - np.pi, label='$\\psi$ (from GPS as reference)')\n",
    "    plt.ylabel('Course')\n",
    "    plt.legend(loc='best',prop={'size':16})\n",
    "\n",
    "    plt.subplot(413)\n",
    "    plt.step(range(len(measurements[0])),x3, label='$v$')\n",
    "    plt.step(range(len(measurements[0])),speed/3.6, label='$v$ (from GPS as reference)')\n",
    "    plt.ylabel('Velocity')\n",
    "    plt.ylim([0, 30])\n",
    "    plt.legend(loc='best',prop={'size':16})\n",
    "\n",
    "    plt.subplot(414)\n",
    "    plt.step(range(len(measurements[0])),x4, label='$\\dot \\psi$')\n",
    "    plt.step(range(len(measurements[0])),yawrate/180.0*np.pi, label='$\\dot \\psi$ (from IMU as reference)')\n",
    "    plt.ylabel('Yaw Rate')\n",
    "    plt.ylim([-0.6, 0.6])\n",
    "    plt.legend(loc='best',prop={'size':16})\n",
    "    plt.xlabel('Filter Step')\n",
    "\n",
    "    plt.savefig('Extended-Kalman-Filter-CTRV-State-Estimates.png', dpi=72, transparent=True, bbox_inches='tight')"
   ]
  },
  {
   "cell_type": "code",
   "execution_count": null,
   "metadata": {
    "collapsed": false,
    "slideshow": {
     "slide_type": "fragment"
    }
   },
   "outputs": [],
   "source": [
    "plotx()"
   ]
  },
  {
   "cell_type": "markdown",
   "metadata": {
    "slideshow": {
     "slide_type": "subslide"
    }
   },
   "source": [
    "## Position x/y"
   ]
  },
  {
   "cell_type": "code",
   "execution_count": null,
   "metadata": {
    "collapsed": false,
    "slideshow": {
     "slide_type": "skip"
    }
   },
   "outputs": [],
   "source": [
    "#%pylab --no-import-all"
   ]
  },
  {
   "cell_type": "code",
   "execution_count": null,
   "metadata": {
    "collapsed": false,
    "slideshow": {
     "slide_type": "skip"
    }
   },
   "outputs": [],
   "source": [
    "def plotxy():\n",
    "\n",
    "    fig = plt.figure(figsize=(16,9))\n",
    "\n",
    "    # EKF State\n",
    "    plt.quiver(x0,x1,np.cos(x2), np.sin(x2), color='#94C600', units='xy', width=0.05, scale=0.5)\n",
    "    plt.plot(x0,x1, label='EKF Position', c='k', lw=5)\n",
    "\n",
    "    # Measurements\n",
    "    plt.scatter(mx[::5],my[::5], s=50, label='GPS Measurements', marker='+')\n",
    "    #cbar=plt.colorbar(ticks=np.arange(20))\n",
    "    #cbar.ax.set_ylabel(u'EPE', rotation=270)\n",
    "    #cbar.ax.set_xlabel(u'm')\n",
    "\n",
    "    # Start/Goal\n",
    "    plt.scatter(x0[0],x1[0], s=60, label='Start', c='g')\n",
    "    plt.scatter(x0[-1],x1[-1], s=60, label='Goal', c='r')\n",
    "\n",
    "    plt.xlabel('X [m]')\n",
    "    plt.ylabel('Y [m]')\n",
    "    plt.title('Position')\n",
    "    plt.legend(loc='best')\n",
    "    plt.axis('equal')\n",
    "    #plt.tight_layout()\n",
    "\n",
    "    #plt.savefig('Extended-Kalman-Filter-CTRV-Position.png', dpi=72, transparent=True, bbox_inches='tight')"
   ]
  },
  {
   "cell_type": "code",
   "execution_count": null,
   "metadata": {
    "collapsed": false,
    "slideshow": {
     "slide_type": "fragment"
    }
   },
   "outputs": [],
   "source": [
    "plotxy()"
   ]
  },
  {
   "cell_type": "markdown",
   "metadata": {
    "slideshow": {
     "slide_type": "subslide"
    }
   },
   "source": [
    "### Detailed View"
   ]
  },
  {
   "cell_type": "code",
   "execution_count": null,
   "metadata": {
    "collapsed": false,
    "slideshow": {
     "slide_type": "skip"
    }
   },
   "outputs": [],
   "source": [
    "def plotxydetails():\n",
    "    fig = plt.figure(figsize=(12,9))\n",
    "\n",
    "    plt.subplot(221)\n",
    "    # EKF State\n",
    "    #plt.quiver(x0,x1,np.cos(x2), np.sin(x2), color='#94C600', units='xy', width=0.05, scale=0.5)\n",
    "    plt.plot(x0,x1, label='EKF Position', c='g', lw=5)\n",
    "\n",
    "    # Measurements\n",
    "    plt.scatter(mx[::5],my[::5], s=50, label='GPS Measurements', alpha=0.5, marker='+')\n",
    "    #cbar=plt.colorbar(ticks=np.arange(20))\n",
    "    #cbar.ax.set_ylabel(u'EPE', rotation=270)\n",
    "    #cbar.ax.set_xlabel(u'm')\n",
    "\n",
    "    plt.xlabel('X [m]')\n",
    "    plt.xlim(70, 130)\n",
    "    plt.ylabel('Y [m]')\n",
    "    plt.ylim(140, 200)\n",
    "    plt.title('Position')\n",
    "    plt.legend(loc='best')\n",
    "\n",
    "\n",
    "    plt.subplot(222)\n",
    "\n",
    "    # EKF State\n",
    "    #plt.quiver(x0,x1,np.cos(x2), np.sin(x2), color='#94C600', units='xy', width=0.05, scale=0.5)\n",
    "    plt.plot(x0,x1, label='EKF Position', c='g', lw=5)\n",
    "\n",
    "    # Measurements\n",
    "    plt.scatter(mx[::5],my[::5], s=50, label='GPS Measurements', alpha=0.5, marker='+')\n",
    "    #cbar=plt.colorbar(ticks=np.arange(20))\n",
    "    #cbar.ax.set_ylabel(u'EPE', rotation=270)\n",
    "    #cbar.ax.set_xlabel(u'm')\n",
    "\n",
    "    plt.xlabel('X [m]')\n",
    "    plt.xlim(160, 260)\n",
    "    plt.ylabel('Y [m]')\n",
    "    plt.ylim(110, 160)\n",
    "    plt.title('Position')\n",
    "    plt.legend(loc='best')"
   ]
  },
  {
   "cell_type": "code",
   "execution_count": null,
   "metadata": {
    "collapsed": false,
    "slideshow": {
     "slide_type": "fragment"
    }
   },
   "outputs": [],
   "source": [
    "plotxydetails()"
   ]
  },
  {
   "cell_type": "markdown",
   "metadata": {
    "slideshow": {
     "slide_type": "slide"
    }
   },
   "source": [
    "# Conclusion"
   ]
  },
  {
   "cell_type": "markdown",
   "metadata": {
    "slideshow": {
     "slide_type": "fragment"
    }
   },
   "source": [
    "As you can see, complicated analytic calculation of the Jacobian Matrices, but it works pretty well."
   ]
  },
  {
   "cell_type": "markdown",
   "metadata": {
    "slideshow": {
     "slide_type": "skip"
    }
   },
   "source": [
    "## Write Google Earth KML"
   ]
  },
  {
   "cell_type": "markdown",
   "metadata": {
    "slideshow": {
     "slide_type": "skip"
    }
   },
   "source": [
    "### Convert back from Meters to Lat/Lon (WGS84)"
   ]
  },
  {
   "cell_type": "code",
   "execution_count": null,
   "metadata": {
    "collapsed": false,
    "slideshow": {
     "slide_type": "skip"
    }
   },
   "outputs": [],
   "source": [
    "latekf = latitude[0] + np.divide(x1,arc)\n",
    "lonekf = longitude[0]+ np.divide(x0,np.multiply(arc,np.cos(latitude*np.pi/180.0)))"
   ]
  },
  {
   "cell_type": "markdown",
   "metadata": {
    "slideshow": {
     "slide_type": "skip"
    }
   },
   "source": [
    "### Create Data for KML Path"
   ]
  },
  {
   "cell_type": "markdown",
   "metadata": {
    "slideshow": {
     "slide_type": "skip"
    }
   },
   "source": [
    "Coordinates and timestamps to be used to locate the car model in time and space\n",
    "The value can be expressed as yyyy-mm-ddThh:mm:sszzzzzz, where T is the separator between the date and the time, and the time zone is either Z (for UTC) or zzzzzz, which represents ±hh:mm in relation to UTC."
   ]
  },
  {
   "cell_type": "code",
   "execution_count": null,
   "metadata": {
    "collapsed": false,
    "slideshow": {
     "slide_type": "skip"
    }
   },
   "outputs": [],
   "source": [
    "import datetime\n",
    "car={}\n",
    "car['when']=[]\n",
    "car['coord']=[]\n",
    "car['gps']=[]\n",
    "for i in range(len(millis)):\n",
    "    d=datetime.datetime.fromtimestamp(millis[i]/1000.0)\n",
    "    car[\"when\"].append(d.strftime(\"%Y-%m-%dT%H:%M:%SZ\"))\n",
    "    car[\"coord\"].append((lonekf[i], latekf[i], 0))\n",
    "    car[\"gps\"].append((longitude[i], latitude[i], 0))"
   ]
  },
  {
   "cell_type": "code",
   "execution_count": null,
   "metadata": {
    "collapsed": false,
    "slideshow": {
     "slide_type": "skip"
    }
   },
   "outputs": [],
   "source": [
    "from simplekml import Kml, Model, AltitudeMode, Orientation, Scale, Style, Color"
   ]
  },
  {
   "cell_type": "code",
   "execution_count": null,
   "metadata": {
    "collapsed": false,
    "slideshow": {
     "slide_type": "skip"
    }
   },
   "outputs": [],
   "source": [
    "# The model path and scale variables\n",
    "car_dae = r'https://raw.githubusercontent.com/balzer82/Kalman/master/car-model.dae'\n",
    "car_scale = 1.0\n",
    "\n",
    "# Create the KML document\n",
    "kml = Kml(name=d.strftime(\"%Y-%m-%d %H:%M\"), open=1)\n",
    "\n",
    "# Create the model\n",
    "model_car = Model(altitudemode=AltitudeMode.clamptoground,\n",
    "                            orientation=Orientation(heading=75.0),\n",
    "                            scale=Scale(x=car_scale, y=car_scale, z=car_scale))\n",
    "\n",
    "# Create the track\n",
    "trk = kml.newgxtrack(name=\"EKF\", altitudemode=AltitudeMode.clamptoground,\n",
    "                     description=\"State Estimation from Extended Kalman Filter with CTRV Model\")\n",
    "\n",
    "# Attach the model to the track\n",
    "trk.model = model_car\n",
    "trk.model.link.href = car_dae\n",
    "\n",
    "# Add all the information to the track\n",
    "trk.newwhen(car[\"when\"])\n",
    "trk.newgxcoord(car[\"coord\"])\n",
    "\n",
    "# Style of the Track\n",
    "trk.iconstyle.icon.href = \"\"\n",
    "trk.labelstyle.scale = 1\n",
    "trk.linestyle.width = 4\n",
    "trk.linestyle.color = '7fff0000'\n",
    "\n",
    "# Add GPS measurement marker\n",
    "fol = kml.newfolder(name=\"GPS Measurements\")\n",
    "sharedstyle = Style()\n",
    "sharedstyle.iconstyle.icon.href = 'http://maps.google.com/mapfiles/kml/shapes/placemark_circle.png'\n",
    "\n",
    "for m in range(len(latitude)):\n",
    "    if GPS[m]:\n",
    "        pnt = fol.newpoint(coords = [(longitude[m],latitude[m])])\n",
    "        pnt.style = sharedstyle\n",
    "\n",
    "# Saving\n",
    "#kml.save(\"Extended-Kalman-Filter-CTRV.kml\")\n",
    "kml.savekmz(\"Extended-Kalman-Filter-CTRV.kmz\")"
   ]
  },
  {
   "cell_type": "code",
   "execution_count": 23,
   "metadata": {
    "collapsed": false,
    "slideshow": {
     "slide_type": "skip"
    }
   },
   "outputs": [
    {
     "name": "stdout",
     "output_type": "stream",
     "text": [
      "Exported KMZ File for Google Earth\n"
     ]
    }
   ],
   "source": [
    "print('Exported KMZ File for Google Earth')"
   ]
  }
 ],
 "metadata": {
  "anaconda-cloud": {},
  "kernelspec": {
   "display_name": "Python 3",
   "language": "python",
   "name": "python3"
  },
  "language_info": {
   "codemirror_mode": {
    "name": "ipython",
    "version": 3
   },
   "file_extension": ".py",
   "mimetype": "text/x-python",
   "name": "python",
   "nbconvert_exporter": "python",
   "pygments_lexer": "ipython3",
   "version": "3.5.4"
  }
 },
 "nbformat": 4,
 "nbformat_minor": 0
}
